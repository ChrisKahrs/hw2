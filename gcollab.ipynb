{
 "cells": [
  {
   "cell_type": "code",
   "execution_count": 4,
   "metadata": {},
   "outputs": [
    {
     "name": "stdout",
     "output_type": "stream",
     "text": [
      "Requirement already satisfied: highway-env in /home/codespace/.local/lib/python3.10/site-packages (1.6)\n",
      "Requirement already satisfied: scipy in /home/codespace/.local/lib/python3.10/site-packages (from highway-env) (1.9.1)\n",
      "Requirement already satisfied: pandas in /home/codespace/.local/lib/python3.10/site-packages (from highway-env) (1.5.0)\n",
      "Requirement already satisfied: matplotlib in /home/codespace/.local/lib/python3.10/site-packages (from highway-env) (3.6.0)\n",
      "Requirement already satisfied: numpy in /home/codespace/.local/lib/python3.10/site-packages (from highway-env) (1.23.3)\n",
      "Requirement already satisfied: pygame>=2.0.2 in /usr/local/python/3.10.4/lib/python3.10/site-packages (from highway-env) (2.1.2)\n",
      "Requirement already satisfied: gym>=0.26 in /home/codespace/.local/lib/python3.10/site-packages (from highway-env) (0.26.2)\n",
      "Requirement already satisfied: gym-notices>=0.0.4 in /home/codespace/.local/lib/python3.10/site-packages (from gym>=0.26->highway-env) (0.0.8)\n",
      "Requirement already satisfied: cloudpickle>=1.2.0 in /usr/local/python/3.10.4/lib/python3.10/site-packages (from gym>=0.26->highway-env) (2.2.0)\n",
      "Requirement already satisfied: cycler>=0.10 in /home/codespace/.local/lib/python3.10/site-packages (from matplotlib->highway-env) (0.11.0)\n",
      "Requirement already satisfied: kiwisolver>=1.0.1 in /home/codespace/.local/lib/python3.10/site-packages (from matplotlib->highway-env) (1.4.4)\n",
      "Requirement already satisfied: python-dateutil>=2.7 in /home/codespace/.local/lib/python3.10/site-packages (from matplotlib->highway-env) (2.8.2)\n",
      "Requirement already satisfied: pillow>=6.2.0 in /home/codespace/.local/lib/python3.10/site-packages (from matplotlib->highway-env) (9.2.0)\n",
      "Requirement already satisfied: contourpy>=1.0.1 in /home/codespace/.local/lib/python3.10/site-packages (from matplotlib->highway-env) (1.0.5)\n",
      "Requirement already satisfied: packaging>=20.0 in /home/codespace/.local/lib/python3.10/site-packages (from matplotlib->highway-env) (21.3)\n",
      "Requirement already satisfied: pyparsing>=2.2.1 in /home/codespace/.local/lib/python3.10/site-packages (from matplotlib->highway-env) (3.0.9)\n",
      "Requirement already satisfied: fonttools>=4.22.0 in /home/codespace/.local/lib/python3.10/site-packages (from matplotlib->highway-env) (4.37.4)\n",
      "Requirement already satisfied: pytz>=2020.1 in /home/codespace/.local/lib/python3.10/site-packages (from pandas->highway-env) (2022.4)\n",
      "Requirement already satisfied: six>=1.5 in /home/codespace/.local/lib/python3.10/site-packages (from python-dateutil>=2.7->matplotlib->highway-env) (1.16.0)\n",
      "Collecting rl-agents\n",
      "  Cloning https://github.com/eleurent/rl-agents to /tmp/pip-install-_f1mwrf9/rl-agents_fc611abe5a864c5e8391e56e6b4424ce\n",
      "  Running command git clone --filter=blob:none --quiet https://github.com/eleurent/rl-agents /tmp/pip-install-_f1mwrf9/rl-agents_fc611abe5a864c5e8391e56e6b4424ce\n",
      "  Resolved https://github.com/eleurent/rl-agents to commit afd12de0174c355611a6e25cba0c0d269c15a39e\n",
      "  Preparing metadata (setup.py) ... \u001b[?25ldone\n",
      "\u001b[?25hRequirement already satisfied: gym in /home/codespace/.local/lib/python3.10/site-packages (from rl-agents) (0.26.2)\n",
      "Requirement already satisfied: numpy in /home/codespace/.local/lib/python3.10/site-packages (from rl-agents) (1.23.3)\n",
      "Requirement already satisfied: pandas in /home/codespace/.local/lib/python3.10/site-packages (from rl-agents) (1.5.0)\n",
      "Requirement already satisfied: numba in /usr/local/python/3.10.4/lib/python3.10/site-packages (from rl-agents) (0.56.3)\n",
      "Requirement already satisfied: pygame in /usr/local/python/3.10.4/lib/python3.10/site-packages (from rl-agents) (2.1.2)\n",
      "Requirement already satisfied: matplotlib in /home/codespace/.local/lib/python3.10/site-packages (from rl-agents) (3.6.0)\n",
      "Requirement already satisfied: seaborn in /home/codespace/.local/lib/python3.10/site-packages (from rl-agents) (0.12.0)\n",
      "Requirement already satisfied: six in /home/codespace/.local/lib/python3.10/site-packages (from rl-agents) (1.16.0)\n",
      "Requirement already satisfied: docopt in /usr/local/python/3.10.4/lib/python3.10/site-packages (from rl-agents) (0.6.2)\n",
      "Requirement already satisfied: torch>=1.2.0 in /home/codespace/.local/lib/python3.10/site-packages (from rl-agents) (1.12.1)\n",
      "Requirement already satisfied: tensorboardX in /usr/local/python/3.10.4/lib/python3.10/site-packages (from rl-agents) (2.5.1)\n",
      "Requirement already satisfied: typing-extensions in /home/codespace/.local/lib/python3.10/site-packages (from torch>=1.2.0->rl-agents) (4.4.0)\n",
      "Requirement already satisfied: cloudpickle>=1.2.0 in /usr/local/python/3.10.4/lib/python3.10/site-packages (from gym->rl-agents) (2.2.0)\n",
      "Requirement already satisfied: gym-notices>=0.0.4 in /home/codespace/.local/lib/python3.10/site-packages (from gym->rl-agents) (0.0.8)\n",
      "Requirement already satisfied: kiwisolver>=1.0.1 in /home/codespace/.local/lib/python3.10/site-packages (from matplotlib->rl-agents) (1.4.4)\n",
      "Requirement already satisfied: cycler>=0.10 in /home/codespace/.local/lib/python3.10/site-packages (from matplotlib->rl-agents) (0.11.0)\n",
      "Requirement already satisfied: pillow>=6.2.0 in /home/codespace/.local/lib/python3.10/site-packages (from matplotlib->rl-agents) (9.2.0)\n",
      "Requirement already satisfied: pyparsing>=2.2.1 in /home/codespace/.local/lib/python3.10/site-packages (from matplotlib->rl-agents) (3.0.9)\n",
      "Requirement already satisfied: python-dateutil>=2.7 in /home/codespace/.local/lib/python3.10/site-packages (from matplotlib->rl-agents) (2.8.2)\n",
      "Requirement already satisfied: contourpy>=1.0.1 in /home/codespace/.local/lib/python3.10/site-packages (from matplotlib->rl-agents) (1.0.5)\n",
      "Requirement already satisfied: fonttools>=4.22.0 in /home/codespace/.local/lib/python3.10/site-packages (from matplotlib->rl-agents) (4.37.4)\n",
      "Requirement already satisfied: packaging>=20.0 in /home/codespace/.local/lib/python3.10/site-packages (from matplotlib->rl-agents) (21.3)\n",
      "Requirement already satisfied: llvmlite<0.40,>=0.39.0dev0 in /usr/local/python/3.10.4/lib/python3.10/site-packages (from numba->rl-agents) (0.39.1)\n",
      "Requirement already satisfied: setuptools in /usr/local/python/3.10.4/lib/python3.10/site-packages (from numba->rl-agents) (58.1.0)\n",
      "Requirement already satisfied: pytz>=2020.1 in /home/codespace/.local/lib/python3.10/site-packages (from pandas->rl-agents) (2022.4)\n",
      "Requirement already satisfied: protobuf<=3.20.1,>=3.8.0 in /home/codespace/.local/lib/python3.10/site-packages (from tensorboardX->rl-agents) (3.19.6)\n",
      "Requirement already satisfied: gym in /home/codespace/.local/lib/python3.10/site-packages (0.26.2)\n",
      "Requirement already satisfied: pyvirtualdisplay in /usr/local/python/3.10.4/lib/python3.10/site-packages (3.0)\n",
      "Requirement already satisfied: numpy>=1.18.0 in /home/codespace/.local/lib/python3.10/site-packages (from gym) (1.23.3)\n",
      "Requirement already satisfied: cloudpickle>=1.2.0 in /usr/local/python/3.10.4/lib/python3.10/site-packages (from gym) (2.2.0)\n",
      "Requirement already satisfied: gym-notices>=0.0.4 in /home/codespace/.local/lib/python3.10/site-packages (from gym) (0.0.8)\n",
      "E: Could not open lock file /var/lib/dpkg/lock-frontend - open (13: Permission denied)\n",
      "E: Unable to acquire the dpkg frontend lock (/var/lib/dpkg/lock-frontend), are you root?\n",
      "fatal: destination path 'highway-env' already exists and is not an empty directory.\n"
     ]
    }
   ],
   "source": [
    "!pip install highway-env\n",
    "import gym\n",
    "import highway_env\n",
    "\n",
    "# Agent\n",
    "!pip install git+https://github.com/eleurent/rl-agents#egg=rl-agents\n",
    "from rl_agents.agents.common.factory import agent_factory\n",
    "\n",
    "# Visualisation\n",
    "import sys\n",
    "from tqdm.notebook import trange\n",
    "!pip install gym pyvirtualdisplay\n",
    "!apt-get install -y xvfb python-opengl ffmpeg\n",
    "!git clone https://github.com/eleurent/highway-env.git\n",
    "sys.path.insert(0, './highway-env/scripts/')\n",
    "from utils import record_videos, show_videos"
   ]
  },
  {
   "cell_type": "code",
   "execution_count": 7,
   "metadata": {},
   "outputs": [
    {
     "name": "stdout",
     "output_type": "stream",
     "text": [
      "fatal: destination path 'highway-env' already exists and is not an empty directory.\n"
     ]
    },
    {
     "name": "stderr",
     "output_type": "stream",
     "text": [
      "/home/codespace/.local/lib/python3.10/site-packages/gym/utils/passive_env_checker.py:31: UserWarning: \u001b[33mWARN: A Box observation space has an unconventional shape (neither an image, nor a 1D vector). We recommend flattening the observation to have only a 1D vector or use a custom policy to properly process the data. Actual observation shape: (5, 5)\u001b[0m\n",
      "  logger.warn(\n",
      "/home/codespace/.local/lib/python3.10/site-packages/gym/wrappers/record_video.py:75: UserWarning: \u001b[33mWARN: Overwriting existing videos at /workspaces/hw2/videos folder (try specifying a different `video_folder` for the `RecordVideo` wrapper if this is not desired)\u001b[0m\n",
      "  logger.warn(\n",
      "/home/codespace/.local/lib/python3.10/site-packages/gym/wrappers/monitoring/video_recorder.py:59: UserWarning: \u001b[33mWARN: Disabling video recorder because environment <OrderEnforcing<PassiveEnvChecker<HighwayEnvFast<highway-fast-v0>>>> was not initialized with any compatible video mode between `rgb_array` and `rgb_array_list`\u001b[0m\n",
      "  logger.warn(\n",
      "/home/codespace/.local/lib/python3.10/site-packages/gym/utils/passive_env_checker.py:289: UserWarning: \u001b[33mWARN: No render fps was declared in the environment (env.metadata['render_fps'] is None or not defined), rendering may occur at inconsistent fps.\u001b[0m\n",
      "  logger.warn(\n"
     ]
    },
    {
     "ename": "AttributeError",
     "evalue": "module 'collections' has no attribute 'Mapping'",
     "output_type": "error",
     "traceback": [
      "\u001b[0;31m---------------------------------------------------------------------------\u001b[0m",
      "\u001b[0;31mAttributeError\u001b[0m                            Traceback (most recent call last)",
      "Cell \u001b[0;32mIn [7], line 14\u001b[0m\n\u001b[1;32m      7\u001b[0m \u001b[39m# Make agent\u001b[39;00m\n\u001b[1;32m      8\u001b[0m agent_config \u001b[39m=\u001b[39m {\n\u001b[1;32m      9\u001b[0m     \u001b[39m\"\u001b[39m\u001b[39m__class__\u001b[39m\u001b[39m\"\u001b[39m: \u001b[39m\"\u001b[39m\u001b[39m<class \u001b[39m\u001b[39m'\u001b[39m\u001b[39mrl_agents.agents.tree_search.deterministic.DeterministicPlannerAgent\u001b[39m\u001b[39m'\u001b[39m\u001b[39m>\u001b[39m\u001b[39m\"\u001b[39m,\n\u001b[1;32m     10\u001b[0m     \u001b[39m\"\u001b[39m\u001b[39menv_preprocessors\u001b[39m\u001b[39m\"\u001b[39m: [{\u001b[39m\"\u001b[39m\u001b[39mmethod\u001b[39m\u001b[39m\"\u001b[39m:\u001b[39m\"\u001b[39m\u001b[39msimplify\u001b[39m\u001b[39m\"\u001b[39m}],\n\u001b[1;32m     11\u001b[0m     \u001b[39m\"\u001b[39m\u001b[39mbudget\u001b[39m\u001b[39m\"\u001b[39m: \u001b[39m50\u001b[39m,\n\u001b[1;32m     12\u001b[0m     \u001b[39m\"\u001b[39m\u001b[39mgamma\u001b[39m\u001b[39m\"\u001b[39m: \u001b[39m0.7\u001b[39m,\n\u001b[1;32m     13\u001b[0m }\n\u001b[0;32m---> 14\u001b[0m agent \u001b[39m=\u001b[39m agent_factory(env, agent_config)\n\u001b[1;32m     16\u001b[0m \u001b[39m# Run episode\u001b[39;00m\n\u001b[1;32m     17\u001b[0m \u001b[39mfor\u001b[39;00m step \u001b[39min\u001b[39;00m trange(env\u001b[39m.\u001b[39munwrapped\u001b[39m.\u001b[39mconfig[\u001b[39m\"\u001b[39m\u001b[39mduration\u001b[39m\u001b[39m\"\u001b[39m], desc\u001b[39m=\u001b[39m\u001b[39m\"\u001b[39m\u001b[39mRunning...\u001b[39m\u001b[39m\"\u001b[39m):\n",
      "File \u001b[0;32m~/.python/current/lib/python3.10/site-packages/rl_agents/agents/common/factory.py:24\u001b[0m, in \u001b[0;36magent_factory\u001b[0;34m(environment, config)\u001b[0m\n\u001b[1;32m     22\u001b[0m     module_name, class_name \u001b[39m=\u001b[39m path\u001b[39m.\u001b[39mrsplit(\u001b[39m\"\u001b[39m\u001b[39m.\u001b[39m\u001b[39m\"\u001b[39m, \u001b[39m1\u001b[39m)\n\u001b[1;32m     23\u001b[0m     agent_class \u001b[39m=\u001b[39m \u001b[39mgetattr\u001b[39m(importlib\u001b[39m.\u001b[39mimport_module(module_name), class_name)\n\u001b[0;32m---> 24\u001b[0m     agent \u001b[39m=\u001b[39m agent_class(environment, config)\n\u001b[1;32m     25\u001b[0m     \u001b[39mreturn\u001b[39;00m agent\n\u001b[1;32m     26\u001b[0m \u001b[39melse\u001b[39;00m:\n",
      "File \u001b[0;32m~/.python/current/lib/python3.10/site-packages/rl_agents/agents/tree_search/abstract.py:28\u001b[0m, in \u001b[0;36mAbstractTreeSearchAgent.__init__\u001b[0;34m(self, env, config)\u001b[0m\n\u001b[1;32m     20\u001b[0m \u001b[39mdef\u001b[39;00m \u001b[39m__init__\u001b[39m(\u001b[39mself\u001b[39m,\n\u001b[1;32m     21\u001b[0m              env,\n\u001b[1;32m     22\u001b[0m              config\u001b[39m=\u001b[39m\u001b[39mNone\u001b[39;00m):\n\u001b[1;32m     23\u001b[0m     \u001b[39m\"\"\"\u001b[39;00m\n\u001b[1;32m     24\u001b[0m \u001b[39m        A new Tree Search agent.\u001b[39;00m\n\u001b[1;32m     25\u001b[0m \u001b[39m    :param env: The environment\u001b[39;00m\n\u001b[1;32m     26\u001b[0m \u001b[39m    :param config: The agent configuration. Use default if None.\u001b[39;00m\n\u001b[1;32m     27\u001b[0m \u001b[39m    \"\"\"\u001b[39;00m\n\u001b[0;32m---> 28\u001b[0m     \u001b[39msuper\u001b[39;49m(AbstractTreeSearchAgent, \u001b[39mself\u001b[39;49m)\u001b[39m.\u001b[39;49m\u001b[39m__init__\u001b[39;49m(config)\n\u001b[1;32m     29\u001b[0m     \u001b[39mself\u001b[39m\u001b[39m.\u001b[39menv \u001b[39m=\u001b[39m env\n\u001b[1;32m     30\u001b[0m     \u001b[39mself\u001b[39m\u001b[39m.\u001b[39mplanner \u001b[39m=\u001b[39m \u001b[39mself\u001b[39m\u001b[39m.\u001b[39mmake_planner()\n",
      "File \u001b[0;32m~/.python/current/lib/python3.10/site-packages/rl_agents/agents/common/abstract.py:9\u001b[0m, in \u001b[0;36mAbstractAgent.__init__\u001b[0;34m(self, config)\u001b[0m\n\u001b[1;32m      8\u001b[0m \u001b[39mdef\u001b[39;00m \u001b[39m__init__\u001b[39m(\u001b[39mself\u001b[39m, config\u001b[39m=\u001b[39m\u001b[39mNone\u001b[39;00m):\n\u001b[0;32m----> 9\u001b[0m     \u001b[39msuper\u001b[39;49m(AbstractAgent, \u001b[39mself\u001b[39;49m)\u001b[39m.\u001b[39;49m\u001b[39m__init__\u001b[39;49m(config)\n\u001b[1;32m     10\u001b[0m     \u001b[39mself\u001b[39m\u001b[39m.\u001b[39mwriter \u001b[39m=\u001b[39m \u001b[39mNone\u001b[39;00m  \u001b[39m# Tensorboard writer\u001b[39;00m\n\u001b[1;32m     11\u001b[0m     \u001b[39mself\u001b[39m\u001b[39m.\u001b[39mdirectoy \u001b[39m=\u001b[39m \u001b[39mNone\u001b[39;00m\n",
      "File \u001b[0;32m~/.python/current/lib/python3.10/site-packages/rl_agents/configuration.py:16\u001b[0m, in \u001b[0;36mConfigurable.__init__\u001b[0;34m(self, config)\u001b[0m\n\u001b[1;32m     13\u001b[0m \u001b[39mself\u001b[39m\u001b[39m.\u001b[39mconfig \u001b[39m=\u001b[39m \u001b[39mself\u001b[39m\u001b[39m.\u001b[39mdefault_config()\n\u001b[1;32m     14\u001b[0m \u001b[39mif\u001b[39;00m config:\n\u001b[1;32m     15\u001b[0m     \u001b[39m# Override default config with variant\u001b[39;00m\n\u001b[0;32m---> 16\u001b[0m     Configurable\u001b[39m.\u001b[39;49mrec_update(\u001b[39mself\u001b[39;49m\u001b[39m.\u001b[39;49mconfig, config)\n\u001b[1;32m     17\u001b[0m     \u001b[39m# Override incomplete variant with completed variant\u001b[39;00m\n\u001b[1;32m     18\u001b[0m     Configurable\u001b[39m.\u001b[39mrec_update(config, \u001b[39mself\u001b[39m\u001b[39m.\u001b[39mconfig)\n",
      "File \u001b[0;32m~/.python/current/lib/python3.10/site-packages/rl_agents/configuration.py:40\u001b[0m, in \u001b[0;36mConfigurable.rec_update\u001b[0;34m(d, u)\u001b[0m\n\u001b[1;32m     33\u001b[0m \u001b[39m\"\"\"\u001b[39;00m\n\u001b[1;32m     34\u001b[0m \u001b[39m    Recursive update of a mapping\u001b[39;00m\n\u001b[1;32m     35\u001b[0m \u001b[39m:param d: a mapping\u001b[39;00m\n\u001b[1;32m     36\u001b[0m \u001b[39m:param u: a mapping\u001b[39;00m\n\u001b[1;32m     37\u001b[0m \u001b[39m:return: d updated recursively with u\u001b[39;00m\n\u001b[1;32m     38\u001b[0m \u001b[39m\"\"\"\u001b[39;00m\n\u001b[1;32m     39\u001b[0m \u001b[39mfor\u001b[39;00m k, v \u001b[39min\u001b[39;00m u\u001b[39m.\u001b[39mitems():\n\u001b[0;32m---> 40\u001b[0m     \u001b[39mif\u001b[39;00m \u001b[39misinstance\u001b[39m(v, collections\u001b[39m.\u001b[39;49mMapping):\n\u001b[1;32m     41\u001b[0m         d[k] \u001b[39m=\u001b[39m Configurable\u001b[39m.\u001b[39mrec_update(d\u001b[39m.\u001b[39mget(k, {}), v)\n\u001b[1;32m     42\u001b[0m     \u001b[39melse\u001b[39;00m:\n",
      "\u001b[0;31mAttributeError\u001b[0m: module 'collections' has no attribute 'Mapping'"
     ]
    }
   ],
   "source": [
    "# Make environment\n",
    "!git clone https://github.com/eleurent/highway-env.git\n",
    "env = gym.make(\"highway-fast-v0\")\n",
    "env = record_videos(env)\n",
    "obs, done = env.reset(), False\n",
    "\n",
    "# Make agent\n",
    "agent_config = {\n",
    "    \"__class__\": \"<class 'rl_agents.agents.tree_search.deterministic.DeterministicPlannerAgent'>\",\n",
    "    \"env_preprocessors\": [{\"method\":\"simplify\"}],\n",
    "    \"budget\": 50,\n",
    "    \"gamma\": 0.7,\n",
    "}\n",
    "agent = agent_factory(env, agent_config)\n",
    "\n",
    "# Run episode\n",
    "for step in trange(env.unwrapped.config[\"duration\"], desc=\"Running...\"):\n",
    "    action = agent.act(obs)\n",
    "    obs, reward, done, info = env.step(action)\n",
    "    \n",
    "env.close()\n",
    "show_videos()"
   ]
  }
 ],
 "metadata": {
  "kernelspec": {
   "display_name": "Python 3.10.4 64-bit",
   "language": "python",
   "name": "python3"
  },
  "language_info": {
   "codemirror_mode": {
    "name": "ipython",
    "version": 3
   },
   "file_extension": ".py",
   "mimetype": "text/x-python",
   "name": "python",
   "nbconvert_exporter": "python",
   "pygments_lexer": "ipython3",
   "version": "3.10.4"
  },
  "orig_nbformat": 4,
  "vscode": {
   "interpreter": {
    "hash": "3ad933181bd8a04b432d3370b9dc3b0662ad032c4dfaa4e4f1596c548f763858"
   }
  }
 },
 "nbformat": 4,
 "nbformat_minor": 2
}
